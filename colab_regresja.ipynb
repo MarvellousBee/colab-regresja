{
 "cells": [
  {
   "cell_type": "markdown",
   "id": "408328a6",
   "metadata": {},
   "source": [
    "\n",
    "# 👩‍💻 Wprowadzenie do Google Colab + prosta regresja liniowa\n",
    "\n",
    "W tym notatniku:\n",
    "1. Założysz/zweryfikujesz konto Google.\n",
    "2. Dowiesz się **jak znaleźć Google Colab z poziomu Gmaila**.\n",
    "3. Uruchomisz pierwsze komórki i zainstalujesz biblioteki.\n",
    "4. Zrobisz **proste zadanie z regresją liniową** (przewidywanie ceny mieszkania na podstawie metrażu).\n",
    "5. Zapiszesz wyniki i **umieścisz projekt na GitHubie**.\n"
   ]
  },
  {
   "cell_type": "markdown",
   "id": "be2fb99e",
   "metadata": {},
   "source": [
    "\n",
    "## 1) Konto Google – szybka instrukcja\n",
    "- Wejdź na [accounts.google.com/signup](https://accounts.google.com/signup).\n",
    "- Wypełnij formularz i **utwórz konto Google** (jeśli już masz – po prostu się zaloguj).\n",
    "- Po zalogowaniu przejdź do **Gmaila**: [mail.google.com](https://mail.google.com).\n",
    "\n",
    "## 2) Jak znaleźć **Google Colab** z poziomu Gmaila\n",
    "1. Będąc w Gmailu, kliknij **menu aplikacji Google** (ikona 9 kropek w prawym górnym rogu).\n",
    "2. W wyświetlonej siatce aplikacji kliknij **Colab**.  \n",
    "   > Jeśli nie widzisz Colab na liście: wybierz **„Więcej z Google”** lub wpisz w pasku adresu **https://colab.research.google.com** i naciśnij Enter.\n",
    "3. W Colab wybierz: **File → Upload notebook** (lub **Plik → Prześlij notatnik**) i wrzuć plik `colab_regresja.ipynb` z tego projektu.\n",
    "\n",
    "> 💡 Alternatywnie możesz wybrać **File → Save a copy in Drive** i pracować na kopii w swoim Dysku Google.\n"
   ]
  },
  {
   "cell_type": "markdown",
   "id": "dd27b16c",
   "metadata": {},
   "source": [
    "\n",
    "## 3) Podstawy pracy w Colab\n",
    "- Komórki **Markdown** (takie jak ta) służą do tekstu i formatowania.\n",
    "- Komórki **Code** służą do uruchamiania kodu Pythona.\n",
    "- Uruchamiasz komórkę skrótem **Ctrl+Enter** (lub **Shift+Enter** żeby uruchomić i przejść dalej).\n",
    "- Po lewej możesz włączyć podgląd **plików** i przeciągać/ładować dane (np. CSV).\n",
    "\n",
    "Poniżej sprawdzimy wersję Pythona i zainstalujemy biblioteki (jeśli byłoby trzeba).\n"
   ]
  },
  {
   "cell_type": "code",
   "execution_count": null,
   "id": "da9183ea",
   "metadata": {},
   "outputs": [],
   "source": [
    "\n",
    "import sys, platform\n",
    "print(\"Wersja Pythona:\", sys.version)\n",
    "print(\"Platforma:\", platform.platform())\n"
   ]
  },
  {
   "cell_type": "markdown",
   "id": "9a6de680",
   "metadata": {},
   "source": [
    "\n",
    "## 4) Instalacja bibliotek (tylko jeśli potrzeba)\n",
    "W Colab większość bibliotek jest już dostępna. Jeśli jednak czegoś brakuje, użyj `pip`:\n"
   ]
  },
  {
   "cell_type": "code",
   "execution_count": null,
   "id": "ec495767",
   "metadata": {},
   "outputs": [],
   "source": [
    "\n",
    "# Odkomentuj, jeśli potrzebujesz doinstalować lokalnie lub w niestandardowym środowisku:\n",
    "# !pip install numpy pandas scikit-learn matplotlib\n"
   ]
  },
  {
   "cell_type": "markdown",
   "id": "5729f7eb",
   "metadata": {},
   "source": [
    "\n",
    "## 5) Dane: `mieszkania.csv`\n",
    "Masz w projekcie plik z przykładowymi danymi: **metraż (m²)** i **cena (tys. zł)**.\n",
    "\n",
    "Opcja A – wczytaj lokalny plik (po lewej w Colab kliknij **Files**, wgraj `mieszkania.csv` i uruchom poniższą komórkę):\n"
   ]
  },
  {
   "cell_type": "code",
   "execution_count": null,
   "id": "34c3c570",
   "metadata": {},
   "outputs": [],
   "source": [
    "\n",
    "import pandas as pd\n",
    "\n",
    "# Jeśli wgrałeś plik do Colab (po lewej zakładka Files) – ta ścieżka zadziała:\n",
    "df = pd.read_csv(\"mieszkania.csv\")\n",
    "df.head()\n"
   ]
  },
  {
   "cell_type": "markdown",
   "id": "0c55275b",
   "metadata": {},
   "source": [
    "\n",
    "**Opcja B – gdy plik jest na GitHubie:** po opublikowaniu repozytorium, kliknij w `mieszkania.csv` na GitHubie, wybierz **Raw** i skopiuj URL. Potem:\n"
   ]
  },
  {
   "cell_type": "code",
   "execution_count": null,
   "id": "ed2273fb",
   "metadata": {},
   "outputs": [],
   "source": [
    "\n",
    "# Przykład (podmień na własny RAW URL z GitHuba):\n",
    "# raw_url = \"https://raw.githubusercontent.com/<twoj-user>/<twoje-repo>/main/mieszkania.csv\"\n",
    "# df = pd.read_csv(raw_url)\n",
    "# df.head()\n"
   ]
  },
  {
   "cell_type": "markdown",
   "id": "9fc313db",
   "metadata": {},
   "source": [
    "\n",
    "## 6) Prosta regresja liniowa\n",
    "Chcemy przewidzieć **cenę (tys. zł)** na podstawie **metrażu (m²)**.\n",
    "Kroki:\n",
    "1. Podziel dane na cechę X (metraż) i cel y (cena).\n",
    "2. Dopasuj model `LinearRegression`.\n",
    "3. Obejrzyj parametry (współczynnik i wyraz wolny).\n",
    "4. Zobacz wykres dopasowania.\n"
   ]
  },
  {
   "cell_type": "code",
   "execution_count": null,
   "id": "281dd2f6",
   "metadata": {},
   "outputs": [],
   "source": [
    "\n",
    "import numpy as np\n",
    "from sklearn.linear_model import LinearRegression\n",
    "import matplotlib.pyplot as plt\n",
    "\n",
    "# X: metraż (m²), y: cena (tys. zł)\n",
    "X = df[[\"metraz_m2\"]].values\n",
    "y = df[\"cena_tys\"].values\n",
    "\n",
    "model = LinearRegression()\n",
    "model.fit(X, y)\n",
    "\n",
    "print(\"Współczynnik (a):\", model.coef_[0])\n",
    "print(\"Wyraz wolny (b):\", model.intercept_)\n",
    "\n",
    "# Predykcja dla kilku przykładowych metraży\n",
    "sample = np.array([[40],[60],[80],[100]])\n",
    "pred = model.predict(sample)\n",
    "for m2, p in zip(sample.flatten(), pred):\n",
    "    print(f\"Przewidywana cena dla {m2} m²: {p:.1f} tys. zł\")\n",
    "\n",
    "# Wykres: punkty + linia regresji\n",
    "plt.figure()\n",
    "plt.scatter(X, y, label=\"Dane\")\n",
    "x_line = np.linspace(X.min(), X.max(), 100).reshape(-1,1)\n",
    "y_line = model.predict(x_line)\n",
    "plt.plot(x_line, y_line, label=\"Regresja liniowa\")\n",
    "plt.xlabel(\"Metraż (m²)\")\n",
    "plt.ylabel(\"Cena (tys. zł)\")\n",
    "plt.title(\"Prosta regresja liniowa: cena = a*metraż + b\")\n",
    "plt.legend()\n",
    "plt.show()\n"
   ]
  },
  {
   "cell_type": "markdown",
   "id": "a9bfc816",
   "metadata": {},
   "source": [
    "\n",
    "### Zadanie dla Ciebie ✍️\n",
    "1. Dodaj nową kolumnę z **ceną za 1 m²** i sprawdź, jak się zmienia dla różnych metraży.\n",
    "2. Spróbuj wstawić do modelu drobną nieliniowość (np. `metraz_m2^2` jako dodatkową cechę) i zobacz, czy błąd się zmniejsza.\n",
    "3. Zapisz wykres do pliku PNG (np. `plt.savefig(\"regresja.png\")`).\n",
    "\n",
    "> Rozszerzenie: podziel dane na **train/test** (`train_test_split`) i policz metryki błędu (np. MAE, RMSE).\n"
   ]
  },
  {
   "cell_type": "code",
   "execution_count": 38,
   "id": "3bf6c496",
   "metadata": {},
   "outputs": [
    {
     "name": "stdout",
     "output_type": "stream",
     "text": [
      "   metraz_m2  cena_za_m2\n",
      "0         35    8.857143\n",
      "1         42    8.452381\n",
      "2         50    7.900000\n",
      "3         57    7.543860\n",
      "4         65    7.230769\n",
      "5         72    7.152778\n",
      "6         80    7.000000\n",
      "7         90    6.833333\n",
      "8        100    6.700000\n",
      "9        120    6.416667\n",
      "blad liniowego moedlu: 12.244222389875123\n",
      "blad nieliniowego moedlu: 12.243350951105327\n",
      "model nieliniowy jest lepszy\n"
     ]
    },
    {
     "data": {
      "image/png": "[encoded data removed]",
      "text/plain": [
       "<Figure size 640x480 with 1 Axes>"
      ]
     },
     "metadata": {},
     "output_type": "display_data"
    }
   ],
   "source": [
    "import numpy as np\n",
    "from sklearn.linear_model import LinearRegression\n",
    "import matplotlib.pyplot as plt\n",
    "from sklearn.metrics import mean_squared_error\n",
    "\n",
    "# zad 1\n",
    "cena_za_m2 = df['cena_tys'] / df['metraz_m2']\n",
    "df['cena_za_m2'] = cena_za_m2\n",
    "\n",
    "print(df[['metraz_m2', 'cena_za_m2']])\n",
    "\n",
    "\n",
    "# zad 2\n",
    "cena_za_m2_nieliniowa = cena_za_m2 ** 2\n",
    "\n",
    "df['cena_za_m2_nieliniowa'] = cena_za_m2_nieliniowa\n",
    "\n",
    "X = df[[\"metraz_m2\"]].values\n",
    "X_nieliniowe = df[[\"metraz_m2\", \"cena_za_m2_nieliniowa\"]].values\n",
    "X_1d = df[[\"cena_za_m2_nieliniowa\"]].values\n",
    "y = df[\"cena_tys\"].values\n",
    "\n",
    "\n",
    "model = LinearRegression()\n",
    "model.fit(X, y)\n",
    "\n",
    "model_nieliniowy = LinearRegression()\n",
    "model_nieliniowy.fit(X_nieliniowe, y)\n",
    "\n",
    "blad_liniowa = mean_squared_error(y, model.predict(X))\n",
    "blad_nieliniowa = mean_squared_error(y, model_nieliniowy.predict(X_nieliniowe))\n",
    "\n",
    "print(\"blad liniowego moedlu:\", blad_liniowa)\n",
    "print(\"blad nieliniowego moedlu:\", blad_nieliniowa)\n",
    "print(f\"model {'liniowy' if blad_liniowa < blad_nieliniowa else 'nieliniowy'} jest lepszy\")\n",
    "\n",
    "\n",
    "\n",
    "plt.figure()\n",
    "plt.scatter(X, y, label=\"Dane\")\n",
    "x_line = np.linspace(X.min(), X.max(), 100).reshape(-1,1)\n",
    "y_line = model.predict(x_line)\n",
    "plt.plot(x_line, y_line, label=\"Regresja liniowa\")\n",
    "plt.xlabel(\"Metraż (m²)\")\n",
    "plt.ylabel(\"Cena (tys. zł)\")\n",
    "plt.title(\"Prosta regresja liniowa: cena = a*metraż + b\")\n",
    "plt.legend()\n",
    "# zad 3\n",
    "plt.savefig(\"regresja.png\")\n",
    "plt.show()\n"
   ]
  },
  {
   "cell_type": "markdown",
   "id": "86ef5db5",
   "metadata": {},
   "source": [
    "\n",
    "## 7) Zapisywanie i dzielenie się notatnikiem\n",
    "- **Plik → Zapisz kopię w GitHubie** (File → Save a copy in GitHub) – wybierz repozytorium i folder.\n",
    "- **Plik → Pobrane .ipynb** – pobierz notatnik i wgraj go ręcznie do repozytorium GitHub.\n",
    "\n",
    "## 8) Jak umieścić cały projekt na GitHubie (web UI)\n",
    "1. Zaloguj się na [github.com](https://github.com).\n",
    "2. Kliknij **New** i utwórz repozytorium (np. `colab-regresja`).\n",
    "3. Przeciągnij i upuść pliki z tego projektu: `colab_regresja.ipynb`, `mieszkania.csv`, `README.md`, `requirements.txt`, `.gitignore`.\n",
    "4. Kliknij **Commit changes**.\n",
    "5. Wejdź w `colab_regresja.ipynb` i sprawdź podgląd. Jeśli chcesz, skopiuj **RAW URL** do `mieszkania.csv` i użyj go w sekcji „Opcja B”.\n",
    "\n",
    "> Alternatywa (git w terminalu):\n",
    "> ```bash\n",
    "> git init\n",
    "> git add .\n",
    "> git commit -m \"Inicjalny commit: Colab + regresja liniowa\"\n",
    "> git branch -M main\n",
    "> git remote add origin https://github.com/<twoj-user>/<twoje-repo>.git\n",
    "> git push -u origin main\n",
    "> ```\n"
   ]
  },
  {
   "cell_type": "markdown",
   "id": "04c005a3",
   "metadata": {},
   "source": [
    "\n",
    "---\n",
    "Gotowe! Masz komplet: wiesz jak trafić do **Colab z Gmaila**, uruchomić kod, wykonać prostą **regresję liniową**, a także **opublikować projekt na GitHubie**.\n",
    "Powodzenia! 🚀\n"
   ]
  }
 ],
 "metadata": {
  "language_info": {
   "name": "python"
  }
 },
 "nbformat": 4,
 "nbformat_minor": 5
}
